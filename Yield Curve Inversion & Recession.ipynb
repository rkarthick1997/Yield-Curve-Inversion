{
 "cells": [
  {
   "cell_type": "code",
   "execution_count": 1,
   "metadata": {},
   "outputs": [],
   "source": [
    "import pandas as pd\n",
    "import numpy as np\n",
    "import wrds\n",
    "import math\n",
    "import matplotlib.pyplot as plt\n",
    "from pandas import DatetimeIndex"
   ]
  },
  {
   "cell_type": "code",
   "execution_count": 2,
   "metadata": {},
   "outputs": [
    {
     "name": "stdout",
     "output_type": "stream",
     "text": [
      "Enter your WRDS username [Hatricano]:rkarthick1997\n",
      "Enter your password:········\n",
      "WRDS recommends setting up a .pgpass file.\n",
      "Create .pgpass file now [y/n]?: y\n",
      "Created .pgpass file successfully.\n",
      "Loading library list...\n",
      "Done\n"
     ]
    }
   ],
   "source": [
    "db = wrds.Connection()"
   ]
  },
  {
   "cell_type": "code",
   "execution_count": 25,
   "metadata": {},
   "outputs": [],
   "source": [
    "# db.list_libraries()\n",
    "# db.list_tables(library='crsp')"
   ]
  },
  {
   "cell_type": "code",
   "execution_count": 18,
   "metadata": {},
   "outputs": [
    {
     "data": {
      "text/html": [
       "<div>\n",
       "<style scoped>\n",
       "    .dataframe tbody tr th:only-of-type {\n",
       "        vertical-align: middle;\n",
       "    }\n",
       "\n",
       "    .dataframe tbody tr th {\n",
       "        vertical-align: top;\n",
       "    }\n",
       "\n",
       "    .dataframe thead th {\n",
       "        text-align: right;\n",
       "    }\n",
       "</style>\n",
       "<table border=\"1\" class=\"dataframe\">\n",
       "  <thead>\n",
       "    <tr style=\"text-align: right;\">\n",
       "      <th></th>\n",
       "      <th>adj_return</th>\n",
       "      <th>Total_return_log</th>\n",
       "    </tr>\n",
       "    <tr>\n",
       "      <th>caldt</th>\n",
       "      <th></th>\n",
       "      <th></th>\n",
       "    </tr>\n",
       "  </thead>\n",
       "  <tbody>\n",
       "    <tr>\n",
       "      <th>1980-01-02</th>\n",
       "      <td>-0.020016</td>\n",
       "      <td>-0.020219</td>\n",
       "    </tr>\n",
       "    <tr>\n",
       "      <th>1980-01-03</th>\n",
       "      <td>-0.004558</td>\n",
       "      <td>-0.024788</td>\n",
       "    </tr>\n",
       "    <tr>\n",
       "      <th>1980-01-04</th>\n",
       "      <td>0.012308</td>\n",
       "      <td>-0.012555</td>\n",
       "    </tr>\n",
       "    <tr>\n",
       "      <th>1980-01-07</th>\n",
       "      <td>0.003118</td>\n",
       "      <td>-0.009442</td>\n",
       "    </tr>\n",
       "    <tr>\n",
       "      <th>1980-01-08</th>\n",
       "      <td>0.021196</td>\n",
       "      <td>0.011532</td>\n",
       "    </tr>\n",
       "  </tbody>\n",
       "</table>\n",
       "</div>"
      ],
      "text/plain": [
       "            adj_return  Total_return_log\n",
       "caldt                                   \n",
       "1980-01-02   -0.020016         -0.020219\n",
       "1980-01-03   -0.004558         -0.024788\n",
       "1980-01-04    0.012308         -0.012555\n",
       "1980-01-07    0.003118         -0.009442\n",
       "1980-01-08    0.021196          0.011532"
      ]
     },
     "execution_count": 18,
     "metadata": {},
     "output_type": "execute_result"
    }
   ],
   "source": [
    "# sp_returns = db.raw_sql(\"\"\"\n",
    "\n",
    "# select caldt, vwretd adj_return from crsp.dsp500\n",
    "# where caldt between '1980-01-01' and '2021-07-01'\n",
    "\n",
    "#                         \"\"\", \n",
    "#                      date_cols=['date'])\n",
    "\n",
    "# sp_returns.to_excel('sp_returns.xlsx',index = False)\n",
    "\n",
    "sp_returns = pd.read_excel('sp_returns.xlsx')\n",
    "sp_returns['Total_return_log'] = np.log((sp_returns['adj_return']+1).cumprod())\n",
    "sp_returns.set_index(['caldt'], inplace = True)\n",
    "sp_returns.head()"
   ]
  },
  {
   "cell_type": "code",
   "execution_count": 7,
   "metadata": {},
   "outputs": [
    {
     "data": {
      "text/html": [
       "<div>\n",
       "<style scoped>\n",
       "    .dataframe tbody tr th:only-of-type {\n",
       "        vertical-align: middle;\n",
       "    }\n",
       "\n",
       "    .dataframe tbody tr th {\n",
       "        vertical-align: top;\n",
       "    }\n",
       "\n",
       "    .dataframe thead th {\n",
       "        text-align: right;\n",
       "    }\n",
       "</style>\n",
       "<table border=\"1\" class=\"dataframe\">\n",
       "  <thead>\n",
       "    <tr style=\"text-align: right;\">\n",
       "      <th></th>\n",
       "      <th>observation_date</th>\n",
       "      <th>T10Y2Y</th>\n",
       "    </tr>\n",
       "  </thead>\n",
       "  <tbody>\n",
       "    <tr>\n",
       "      <th>0</th>\n",
       "      <td>1980-01-02</td>\n",
       "      <td>-0.89</td>\n",
       "    </tr>\n",
       "    <tr>\n",
       "      <th>1</th>\n",
       "      <td>1980-01-03</td>\n",
       "      <td>-0.85</td>\n",
       "    </tr>\n",
       "    <tr>\n",
       "      <th>2</th>\n",
       "      <td>1980-01-04</td>\n",
       "      <td>-0.81</td>\n",
       "    </tr>\n",
       "    <tr>\n",
       "      <th>3</th>\n",
       "      <td>1980-01-07</td>\n",
       "      <td>-0.72</td>\n",
       "    </tr>\n",
       "    <tr>\n",
       "      <th>4</th>\n",
       "      <td>1980-01-08</td>\n",
       "      <td>-0.69</td>\n",
       "    </tr>\n",
       "  </tbody>\n",
       "</table>\n",
       "</div>"
      ],
      "text/plain": [
       "  observation_date  T10Y2Y\n",
       "0       1980-01-02   -0.89\n",
       "1       1980-01-03   -0.85\n",
       "2       1980-01-04   -0.81\n",
       "3       1980-01-07   -0.72\n",
       "4       1980-01-08   -0.69"
      ]
     },
     "execution_count": 7,
     "metadata": {},
     "output_type": "execute_result"
    }
   ],
   "source": [
    "# Getting 10 year - 2 year treasury return from https://fred.stlouisfed.org/series/T10Y2Y\n",
    "\n",
    "treasury_return = pd.read_excel('T10Y2Y.xls')\n",
    "treasury_return.dropna(inplace = True)\n",
    "treasury_return.head()"
   ]
  },
  {
   "cell_type": "code",
   "execution_count": 73,
   "metadata": {},
   "outputs": [
    {
     "data": {
      "text/html": [
       "<div>\n",
       "<style scoped>\n",
       "    .dataframe tbody tr th:only-of-type {\n",
       "        vertical-align: middle;\n",
       "    }\n",
       "\n",
       "    .dataframe tbody tr th {\n",
       "        vertical-align: top;\n",
       "    }\n",
       "\n",
       "    .dataframe thead th {\n",
       "        text-align: right;\n",
       "    }\n",
       "</style>\n",
       "<table border=\"1\" class=\"dataframe\">\n",
       "  <thead>\n",
       "    <tr style=\"text-align: right;\">\n",
       "      <th></th>\n",
       "      <th>caldt</th>\n",
       "      <th>adj_return</th>\n",
       "      <th>Total_return_log</th>\n",
       "    </tr>\n",
       "  </thead>\n",
       "  <tbody>\n",
       "    <tr>\n",
       "      <th>24</th>\n",
       "      <td>1950-01-31</td>\n",
       "      <td>0.001087</td>\n",
       "      <td>0.019587</td>\n",
       "    </tr>\n",
       "    <tr>\n",
       "      <th>46</th>\n",
       "      <td>1950-02-28</td>\n",
       "      <td>-0.003401</td>\n",
       "      <td>0.038982</td>\n",
       "    </tr>\n",
       "    <tr>\n",
       "      <th>73</th>\n",
       "      <td>1950-03-31</td>\n",
       "      <td>-0.000279</td>\n",
       "      <td>0.047045</td>\n",
       "    </tr>\n",
       "    <tr>\n",
       "      <th>96</th>\n",
       "      <td>1950-04-28</td>\n",
       "      <td>0.004285</td>\n",
       "      <td>0.085031</td>\n",
       "    </tr>\n",
       "    <tr>\n",
       "      <th>123</th>\n",
       "      <td>1950-05-31</td>\n",
       "      <td>0.003636</td>\n",
       "      <td>0.137826</td>\n",
       "    </tr>\n",
       "  </tbody>\n",
       "</table>\n",
       "</div>"
      ],
      "text/plain": [
       "         caldt  adj_return  Total_return_log\n",
       "24  1950-01-31    0.001087          0.019587\n",
       "46  1950-02-28   -0.003401          0.038982\n",
       "73  1950-03-31   -0.000279          0.047045\n",
       "96  1950-04-28    0.004285          0.085031\n",
       "123 1950-05-31    0.003636          0.137826"
      ]
     },
     "execution_count": 73,
     "metadata": {},
     "output_type": "execute_result"
    }
   ],
   "source": [
    "def date_filter(s):\n",
    "    if s in treasury_return['Calendar Date'].values:\n",
    "        return True\n",
    "    else:\n",
    "        return False\n",
    "\n",
    "sp_returns = sp_returns[sp_returns['caldt'].map(date_filter)]\n",
    "sp_returns.head()"
   ]
  },
  {
   "cell_type": "code",
   "execution_count": 19,
   "metadata": {},
   "outputs": [],
   "source": [
    "curve_inversion1 = treasury_return[treasury_return['T10Y2Y']<0]['observation_date'].values"
   ]
  },
  {
   "cell_type": "code",
   "execution_count": null,
   "metadata": {},
   "outputs": [],
   "source": []
  },
  {
   "cell_type": "code",
   "execution_count": 25,
   "metadata": {},
   "outputs": [
    {
     "data": {
      "text/html": [
       "<div>\n",
       "<style scoped>\n",
       "    .dataframe tbody tr th:only-of-type {\n",
       "        vertical-align: middle;\n",
       "    }\n",
       "\n",
       "    .dataframe tbody tr th {\n",
       "        vertical-align: top;\n",
       "    }\n",
       "\n",
       "    .dataframe thead th {\n",
       "        text-align: right;\n",
       "    }\n",
       "</style>\n",
       "<table border=\"1\" class=\"dataframe\">\n",
       "  <thead>\n",
       "    <tr style=\"text-align: right;\">\n",
       "      <th></th>\n",
       "      <th>observation_date</th>\n",
       "      <th>USRECM</th>\n",
       "    </tr>\n",
       "  </thead>\n",
       "  <tbody>\n",
       "    <tr>\n",
       "      <th>0</th>\n",
       "      <td>1980-01-01</td>\n",
       "      <td>1980-07-01</td>\n",
       "    </tr>\n",
       "    <tr>\n",
       "      <th>1</th>\n",
       "      <td>1981-07-01</td>\n",
       "      <td>1982-11-01</td>\n",
       "    </tr>\n",
       "    <tr>\n",
       "      <th>2</th>\n",
       "      <td>1990-07-01</td>\n",
       "      <td>1991-03-01</td>\n",
       "    </tr>\n",
       "    <tr>\n",
       "      <th>3</th>\n",
       "      <td>2001-03-01</td>\n",
       "      <td>2001-11-01</td>\n",
       "    </tr>\n",
       "    <tr>\n",
       "      <th>4</th>\n",
       "      <td>2007-12-01</td>\n",
       "      <td>2009-06-01</td>\n",
       "    </tr>\n",
       "    <tr>\n",
       "      <th>5</th>\n",
       "      <td>2020-02-01</td>\n",
       "      <td>2020-04-01</td>\n",
       "    </tr>\n",
       "  </tbody>\n",
       "</table>\n",
       "</div>"
      ],
      "text/plain": [
       "  observation_date     USRECM\n",
       "0       1980-01-01 1980-07-01\n",
       "1       1981-07-01 1982-11-01\n",
       "2       1990-07-01 1991-03-01\n",
       "3       2001-03-01 2001-11-01\n",
       "4       2007-12-01 2009-06-01\n",
       "5       2020-02-01 2020-04-01"
      ]
     },
     "execution_count": 25,
     "metadata": {},
     "output_type": "execute_result"
    }
   ],
   "source": [
    "# NBER Recession Data Peak to Trough https://fred.stlouisfed.org/series/USRECM\n",
    "\n",
    "recession = pd.read_excel('USRECM.xls')\n",
    "recession"
   ]
  },
  {
   "cell_type": "code",
   "execution_count": 35,
   "metadata": {},
   "outputs": [
    {
     "data": {
      "text/plain": [
       "Timestamp('1980-07-01 00:00:00')"
      ]
     },
     "execution_count": 35,
     "metadata": {},
     "output_type": "execute_result"
    }
   ],
   "source": [
    "recession.iloc[0]['USRECM']"
   ]
  },
  {
   "cell_type": "code",
   "execution_count": null,
   "metadata": {},
   "outputs": [],
   "source": []
  },
  {
   "cell_type": "code",
   "execution_count": null,
   "metadata": {},
   "outputs": [],
   "source": []
  },
  {
   "cell_type": "code",
   "execution_count": 54,
   "metadata": {},
   "outputs": [
    {
     "data": {
      "image/png": "[encoded data removed]",
      "text/plain": [
       "<Figure size 1800x864 with 1 Axes>"
      ]
     },
     "metadata": {
      "needs_background": "light"
     },
     "output_type": "display_data"
    }
   ],
   "source": [
    "# treasury_return.set_index(['Calendar Date'],inplace =True)\n",
    "# sp_returns.set_index(['caldt'],inplace = True)\n",
    "\n",
    "fig, ax1 = plt.subplots(figsize=(25,12))\n",
    "plt.title('Return vs Year')\n",
    "sp_returns['Total_return_log'].plot(kind='line', marker=None, color ='blue', label = 'Log S&P Return')\n",
    "\n",
    "for i in range(len(recession)):\n",
    "    plt.axvspan(recession.iloc[i]['observation_date'], recession.iloc[i]['USRECM'], alpha=1, color='grey')\n",
    "\n",
    "for i in curve_inversion1:\n",
    "    plt.axvline(x=i, color = 'red', alpha = 0.3)\n",
    "\n",
    "plt.xlabel('Date', fontsize = 20)\n",
    "plt.ylabel('Return Difference', fontsize = 20)\n",
    "plt.title('Yield Curve Inversion and Recession', fontsize = 20)\n",
    "plt.legend(['Log S&P Returns','NBER Recession','Yield Curve Inversion'],loc =\"upper right\", fontsize = 15)\n",
    "plt.show()"
   ]
  },
  {
   "cell_type": "code",
   "execution_count": null,
   "metadata": {},
   "outputs": [],
   "source": []
  }
 ],
 "metadata": {
  "kernelspec": {
   "display_name": "Python 3",
   "language": "python",
   "name": "python3"
  },
  "language_info": {
   "codemirror_mode": {
    "name": "ipython",
    "version": 3
   },
   "file_extension": ".py",
   "mimetype": "text/x-python",
   "name": "python",
   "nbconvert_exporter": "python",
   "pygments_lexer": "ipython3",
   "version": "3.8.5"
  }
 },
 "nbformat": 4,
 "nbformat_minor": 4
}
